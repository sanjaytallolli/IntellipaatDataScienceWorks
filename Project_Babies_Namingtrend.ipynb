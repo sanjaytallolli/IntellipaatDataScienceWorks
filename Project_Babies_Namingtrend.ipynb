soup = BeautifulSoup('<b class="boldest">Extremely bold</b>',"html.parser")
tag = soup.b
print(type(tag))

###########Name############
print(tag.name)

tag.name = "blockquote"
print(tag)
