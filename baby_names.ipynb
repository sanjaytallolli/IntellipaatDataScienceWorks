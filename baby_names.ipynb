{
 "cells": [
  {
   "cell_type": "markdown",
   "metadata": {},
   "source": [
    "# Baby Names Data from SSA"
   ]
  },
  {
   "cell_type": "code",
   "execution_count": null,
   "metadata": {
    "collapsed": true
   },
   "outputs": [],
   "source": [
    "# Import libraries\n",
    "import pandas as pd\n",
    "import numpy as np\n",
    "import matplotlib.pyplot as plt\n",
    "\n",
    "# The data is split by year so we need to assemble it into one csv\n",
    "# Create an empty list to store the individual file names: pieces\n",
    "pieces = []\n",
    "\n",
    "# Create a list of column names: columns\n",
    "columns = ['name', 'sex', 'births']\n",
    "\n",
    "# Variable to iterate over each year's text file: years\n",
    "years = np.arange(1880, 2016)\n",
    "\n",
    "# Loop over the text files and create the dataframe\n",
    "for year in years:\n",
    "    # create the path to the csvs: path\n",
    "    path = 'C:/Users/taben/Downloads/data sets/baby_names/yob%d.txt' % year\n",
    "    \n",
    "    # Create the initial dataframe: names\n",
    "    names = pd.read_csv(path, names=columns)\n",
    "    \n",
    "    # Create a year column\n",
    "    names['year'] = year\n",
    "    \n",
    "    # Append all of the names dataframes together\n",
    "    pieces.append(names)\n",
    "    \n",
    "    # Create the final dataframe: bnames\n",
    "    bnames = pd.concat(pieces, ignore_index=True)\n",
    "\n",
    "# Save the complete dataframe\n",
    "bnames.to_csv('bnames.csv')\n",
    "bnames.head()"
   ]
  },
  {
   "cell_type": "markdown",
   "metadata": {},
   "source": [
    "# Exploring Trends in Names\n",
    "One of the first things we want to do is to understand naming trends. Let us start by figuring out the top five most popular male and female names for this decade (born 2011 and later)."
   ]
  },
  {
   "cell_type": "code",
   "execution_count": 5,
   "metadata": {},
   "outputs": [
    {
     "name": "stdout",
     "output_type": "stream",
     "text": [
      "  sex       name  births\n",
      "0   F      Aabha      28\n",
      "1   F  Aabriella      10\n",
      "2   F       Aada       5\n",
      "3   F    Aadhira      37\n",
      "4   F     Aadhya     848\n"
     ]
    },
    {
     "data": {
      "text/html": [
       "<div>\n",
       "<style scoped>\n",
       "    .dataframe tbody tr th:only-of-type {\n",
       "        vertical-align: middle;\n",
       "    }\n",
       "\n",
       "    .dataframe tbody tr th {\n",
       "        vertical-align: top;\n",
       "    }\n",
       "\n",
       "    .dataframe thead th {\n",
       "        text-align: right;\n",
       "    }\n",
       "</style>\n",
       "<table border=\"1\" class=\"dataframe\">\n",
       "  <thead>\n",
       "    <tr style=\"text-align: right;\">\n",
       "      <th></th>\n",
       "      <th>sex</th>\n",
       "      <th>name</th>\n",
       "      <th>births</th>\n",
       "    </tr>\n",
       "  </thead>\n",
       "  <tbody>\n",
       "    <tr>\n",
       "      <th>0</th>\n",
       "      <td>F</td>\n",
       "      <td>Emma</td>\n",
       "      <td>101961</td>\n",
       "    </tr>\n",
       "    <tr>\n",
       "      <th>1</th>\n",
       "      <td>F</td>\n",
       "      <td>Sophia</td>\n",
       "      <td>101282</td>\n",
       "    </tr>\n",
       "    <tr>\n",
       "      <th>2</th>\n",
       "      <td>F</td>\n",
       "      <td>Olivia</td>\n",
       "      <td>92445</td>\n",
       "    </tr>\n",
       "    <tr>\n",
       "      <th>3</th>\n",
       "      <td>F</td>\n",
       "      <td>Isabella</td>\n",
       "      <td>89225</td>\n",
       "    </tr>\n",
       "    <tr>\n",
       "      <th>4</th>\n",
       "      <td>F</td>\n",
       "      <td>Ava</td>\n",
       "      <td>78270</td>\n",
       "    </tr>\n",
       "    <tr>\n",
       "      <th>5</th>\n",
       "      <td>M</td>\n",
       "      <td>Noah</td>\n",
       "      <td>91265</td>\n",
       "    </tr>\n",
       "    <tr>\n",
       "      <th>6</th>\n",
       "      <td>M</td>\n",
       "      <td>Jacob</td>\n",
       "      <td>90306</td>\n",
       "    </tr>\n",
       "    <tr>\n",
       "      <th>7</th>\n",
       "      <td>M</td>\n",
       "      <td>Mason</td>\n",
       "      <td>89912</td>\n",
       "    </tr>\n",
       "    <tr>\n",
       "      <th>8</th>\n",
       "      <td>M</td>\n",
       "      <td>Liam</td>\n",
       "      <td>85112</td>\n",
       "    </tr>\n",
       "    <tr>\n",
       "      <th>9</th>\n",
       "      <td>M</td>\n",
       "      <td>William</td>\n",
       "      <td>83476</td>\n",
       "    </tr>\n",
       "  </tbody>\n",
       "</table>\n",
       "</div>"
      ],
      "text/plain": [
       "  sex      name  births\n",
       "0   F      Emma  101961\n",
       "1   F    Sophia  101282\n",
       "2   F    Olivia   92445\n",
       "3   F  Isabella   89225\n",
       "4   F       Ava   78270\n",
       "5   M      Noah   91265\n",
       "6   M     Jacob   90306\n",
       "7   M     Mason   89912\n",
       "8   M      Liam   85112\n",
       "9   M   William   83476"
      ]
     },
     "execution_count": 5,
     "metadata": {},
     "output_type": "execute_result"
    }
   ],
   "source": [
    "bnames_2010 = bnames.loc[bnames['year'] > 2010]\n",
    "bnames_2010_agg = bnames_2010.groupby(['sex', 'name'], as_index=False)['births'].sum()\n",
    "bnames_top5 = bnames_2010_agg.\\\n",
    "    sort_values(['sex', 'births'],ascending=[True, False]).\\\n",
    "    groupby('sex').head(5).reset_index(drop=True)\n",
    "print(bnames_2010_agg.head())\n",
    "bnames_top5"
   ]
  },
  {
   "cell_type": "markdown",
   "metadata": {},
   "source": [
    "# Proportion of Births\n",
    "In order to make comparisons across years, we need to control for population effects. This is done by normalizing the number of births by the total number of births in that year."
   ]
  },
  {
   "cell_type": "code",
   "execution_count": 7,
   "metadata": {},
   "outputs": [
    {
     "name": "stdout",
     "output_type": "stream",
     "text": [
      "        name sex  births  year  prop_births\n",
      "0       Mary   F    7065  1880     0.035065\n",
      "1       Anna   F    2604  1880     0.012924\n",
      "2       Emma   F    2003  1880     0.009941\n",
      "3  Elizabeth   F    1939  1880     0.009624\n",
      "4     Minnie   F    1746  1880     0.008666\n"
     ]
    }
   ],
   "source": [
    "bnames2 = bnames.copy()\n",
    "\n",
    "# Compute the proportion of births by year and add it as a new column: prop_births\n",
    "total_births_by_year = bnames.groupby('year')['births'].transform(np.sum)\n",
    "bnames2['prop_births'] = (bnames2['births'] / total_births_by_year)\n",
    "\n",
    "print(bnames2.head())"
   ]
  },
  {
   "cell_type": "markdown",
   "metadata": {},
   "source": [
    "# Popularity of Names\n",
    "plotting the popularity of two random names and inspecting the underlying trends for any interesting patterns"
   ]
  },
  {
   "cell_type": "code",
   "execution_count": 41,
   "metadata": {},
   "outputs": [
    {
     "data": {
      "text/plain": [
       "<matplotlib.axes._subplots.AxesSubplot at 0x1f858c46128>"
      ]
     },
     "execution_count": 41,
     "metadata": {},
     "output_type": "execute_result"
    },
    {
     "data": {
      "text/plain": [
       "<matplotlib.figure.Figure at 0x1f84fdf01d0>"
      ]
     },
     "metadata": {},
     "output_type": "display_data"
    },
    {
     "data": {
      "image/png": "[encoded data removed]",
      "text/plain": [
       "<matplotlib.figure.Figure at 0x1f8500eb0f0>"
      ]
     },
     "metadata": {},
     "output_type": "display_data"
    },
    {
     "data": {
      "image/png": "[encoded data removed]",
      "text/plain": [
       "<matplotlib.figure.Figure at 0x1f858c3b710>"
      ]
     },
     "metadata": {},
     "output_type": "display_data"
    }
   ],
   "source": [
    "% matplotlib inline\n",
    "plt.style.use('seaborn')\n",
    "plt.figure(figsize=(70, 70), dpi=1600)\n",
    "\n",
    "def plot_trends(name, sex):\n",
    "    \"\"\"Create a df based on name and sex and plot the trend in the number of births\"\"\"\n",
    "    data = bnames[(bnames.name==name) & (bnames.sex==sex)]\n",
    "    ax = data.plot(x='year', y='births', title=name)\n",
    "    plt.ylabel('Number of Births')\n",
    "    \n",
    "    ax.set_xlim(1880, 2016)\n",
    "    return ax\n",
    "\n",
    "\n",
    "#for name in bnames:\n",
    "plot_trends('Elizabeth','F')\n",
    "plot_trends('Katherine', 'F')"
   ]
  },
  {
   "cell_type": "markdown",
   "metadata": {},
   "source": [
    "# Trendy vs Stable Names\n",
    "An interesting question to ask would be what are the top 5 stable and top 5 trendiest names. A stable name is one whose proportion across years does not vary drastically, while a trendy name is one whose popularity peaks for a short period and then dies down.\n",
    "\n",
    "There are many ways to measure trendiness. A simple measure would be to look at the maximum proportion of births for a name, normalized by the sume of proportion of births across years. For example, if the name Joe had the proportions 0.1, 0.2, 0.1, 0.1, then the trendiness measure would be 0.2/(0.1 + 0.2 + 0.1 + 0.1) which equals 0.5.\n",
    "\n",
    "Let us use this idea to figure out the top 10 trendy names in this data set, with at least a 1000 births."
   ]
  },
  {
   "cell_type": "code",
   "execution_count": 16,
   "metadata": {},
   "outputs": [
    {
     "data": {
      "text/html": [
       "<div>\n",
       "<style scoped>\n",
       "    .dataframe tbody tr th:only-of-type {\n",
       "        vertical-align: middle;\n",
       "    }\n",
       "\n",
       "    .dataframe tbody tr th {\n",
       "        vertical-align: top;\n",
       "    }\n",
       "\n",
       "    .dataframe thead th {\n",
       "        text-align: right;\n",
       "    }\n",
       "</style>\n",
       "<table border=\"1\" class=\"dataframe\">\n",
       "  <thead>\n",
       "    <tr style=\"text-align: right;\">\n",
       "      <th></th>\n",
       "      <th>name</th>\n",
       "      <th>sex</th>\n",
       "      <th>total</th>\n",
       "      <th>max</th>\n",
       "      <th>trendiness</th>\n",
       "    </tr>\n",
       "  </thead>\n",
       "  <tbody>\n",
       "    <tr>\n",
       "      <th>0</th>\n",
       "      <td>Christop</td>\n",
       "      <td>M</td>\n",
       "      <td>1082</td>\n",
       "      <td>1082</td>\n",
       "      <td>1.000000</td>\n",
       "    </tr>\n",
       "    <tr>\n",
       "      <th>1</th>\n",
       "      <td>Kizzy</td>\n",
       "      <td>F</td>\n",
       "      <td>2319</td>\n",
       "      <td>1116</td>\n",
       "      <td>0.481242</td>\n",
       "    </tr>\n",
       "    <tr>\n",
       "      <th>2</th>\n",
       "      <td>Deneen</td>\n",
       "      <td>F</td>\n",
       "      <td>3602</td>\n",
       "      <td>1604</td>\n",
       "      <td>0.445308</td>\n",
       "    </tr>\n",
       "    <tr>\n",
       "      <th>3</th>\n",
       "      <td>Daleyza</td>\n",
       "      <td>F</td>\n",
       "      <td>3388</td>\n",
       "      <td>1466</td>\n",
       "      <td>0.432704</td>\n",
       "    </tr>\n",
       "    <tr>\n",
       "      <th>4</th>\n",
       "      <td>Marely</td>\n",
       "      <td>F</td>\n",
       "      <td>2490</td>\n",
       "      <td>1004</td>\n",
       "      <td>0.403213</td>\n",
       "    </tr>\n",
       "    <tr>\n",
       "      <th>5</th>\n",
       "      <td>Moesha</td>\n",
       "      <td>F</td>\n",
       "      <td>1067</td>\n",
       "      <td>426</td>\n",
       "      <td>0.399250</td>\n",
       "    </tr>\n",
       "    <tr>\n",
       "      <th>6</th>\n",
       "      <td>Kanye</td>\n",
       "      <td>M</td>\n",
       "      <td>1287</td>\n",
       "      <td>507</td>\n",
       "      <td>0.393939</td>\n",
       "    </tr>\n",
       "    <tr>\n",
       "      <th>7</th>\n",
       "      <td>Everly</td>\n",
       "      <td>F</td>\n",
       "      <td>5982</td>\n",
       "      <td>2324</td>\n",
       "      <td>0.388499</td>\n",
       "    </tr>\n",
       "    <tr>\n",
       "      <th>8</th>\n",
       "      <td>Kyrie</td>\n",
       "      <td>M</td>\n",
       "      <td>2821</td>\n",
       "      <td>1031</td>\n",
       "      <td>0.365473</td>\n",
       "    </tr>\n",
       "    <tr>\n",
       "      <th>9</th>\n",
       "      <td>Tennille</td>\n",
       "      <td>F</td>\n",
       "      <td>2172</td>\n",
       "      <td>769</td>\n",
       "      <td>0.354052</td>\n",
       "    </tr>\n",
       "  </tbody>\n",
       "</table>\n",
       "</div>"
      ],
      "text/plain": [
       "       name sex  total   max  trendiness\n",
       "0  Christop   M   1082  1082    1.000000\n",
       "1     Kizzy   F   2319  1116    0.481242\n",
       "2    Deneen   F   3602  1604    0.445308\n",
       "3   Daleyza   F   3388  1466    0.432704\n",
       "4    Marely   F   2490  1004    0.403213\n",
       "5    Moesha   F   1067   426    0.399250\n",
       "6     Kanye   M   1287   507    0.393939\n",
       "7    Everly   F   5982  2324    0.388499\n",
       "8     Kyrie   M   2821  1031    0.365473\n",
       "9  Tennille   F   2172   769    0.354052"
      ]
     },
     "execution_count": 16,
     "metadata": {},
     "output_type": "execute_result"
    }
   ],
   "source": [
    "# A Data Frame of the top 10 most trendy names\n",
    "\n",
    "# Create an empty dataframe: names\n",
    "names= pd.DataFrame()\n",
    "\n",
    "# Group the bnames dataframe by name and sex: name_and_sex_grouped\n",
    "name_and_sex_grouped = bnames.groupby(['name', 'sex'])\n",
    "\n",
    "# Sum the number of births across all years in name_and_sex_grouped: names['total']\n",
    "names['total'] = name_and_sex_grouped['births'].sum()\n",
    "\n",
    "# Compute the maximum number of births across all years:names['max']\n",
    "names['max'] = name_and_sex_grouped['births'].max()\n",
    "\n",
    "# Compute the trendiness of each name: names['trendiness']\n",
    "names['trendiness'] = names['max'] / names['total']\n",
    "\n",
    "# Create a dataframe of the top ten trendiest names: top10_trendy_names\n",
    "top10_trendy_names = names.loc[names['total'] > 1000].sort_values('trendiness', ascending=False).head(10).reset_index()\n",
    "top10_trendy_names"
   ]
  }
 ],
 "metadata": {
  "kernelspec": {
   "display_name": "Python 3",
   "language": "python",
   "name": "python3"
  },
  "language_info": {
   "codemirror_mode": {
    "name": "ipython",
    "version": 3
   },
   "file_extension": ".py",
   "mimetype": "text/x-python",
   "name": "python",
   "nbconvert_exporter": "python",
   "pygments_lexer": "ipython3",
   "version": "3.6.4"
  }
 },
 "nbformat": 4,
 "nbformat_minor": 2
}
